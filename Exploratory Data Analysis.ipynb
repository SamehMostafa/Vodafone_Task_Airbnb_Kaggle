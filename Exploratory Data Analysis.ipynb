{
 "cells": [
  {
   "cell_type": "code",
   "execution_count": 1,
   "metadata": {},
   "outputs": [],
   "source": [
    "import pandas as pd\n",
    "import numpy as np \n",
    "import matplotlib.pyplot as plt\n",
    "import matplotlib as mpl\n",
    "import seaborn as sns\n",
    "%matplotlib inline"
   ]
  },
  {
   "cell_type": "markdown",
   "metadata": {},
   "source": [
    "## Reading Data"
   ]
  },
  {
   "cell_type": "code",
   "execution_count": 2,
   "metadata": {},
   "outputs": [
    {
     "data": {
      "text/html": [
       "<div>\n",
       "<style scoped>\n",
       "    .dataframe tbody tr th:only-of-type {\n",
       "        vertical-align: middle;\n",
       "    }\n",
       "\n",
       "    .dataframe tbody tr th {\n",
       "        vertical-align: top;\n",
       "    }\n",
       "\n",
       "    .dataframe thead th {\n",
       "        text-align: right;\n",
       "    }\n",
       "</style>\n",
       "<table border=\"1\" class=\"dataframe\">\n",
       "  <thead>\n",
       "    <tr style=\"text-align: right;\">\n",
       "      <th></th>\n",
       "      <th>id</th>\n",
       "      <th>date_account_created</th>\n",
       "      <th>timestamp_first_active</th>\n",
       "      <th>date_first_booking</th>\n",
       "      <th>gender</th>\n",
       "      <th>age</th>\n",
       "      <th>signup_method</th>\n",
       "      <th>signup_flow</th>\n",
       "      <th>language</th>\n",
       "      <th>affiliate_channel</th>\n",
       "      <th>affiliate_provider</th>\n",
       "      <th>first_affiliate_tracked</th>\n",
       "      <th>signup_app</th>\n",
       "      <th>first_device_type</th>\n",
       "      <th>first_browser</th>\n",
       "      <th>country_destination</th>\n",
       "    </tr>\n",
       "  </thead>\n",
       "  <tbody>\n",
       "    <tr>\n",
       "      <th>0</th>\n",
       "      <td>gxn3p5htnn</td>\n",
       "      <td>2010-06-28</td>\n",
       "      <td>20090319043255</td>\n",
       "      <td>NaN</td>\n",
       "      <td>-unknown-</td>\n",
       "      <td>NaN</td>\n",
       "      <td>facebook</td>\n",
       "      <td>0</td>\n",
       "      <td>en</td>\n",
       "      <td>direct</td>\n",
       "      <td>direct</td>\n",
       "      <td>untracked</td>\n",
       "      <td>Web</td>\n",
       "      <td>Mac Desktop</td>\n",
       "      <td>Chrome</td>\n",
       "      <td>NDF</td>\n",
       "    </tr>\n",
       "    <tr>\n",
       "      <th>1</th>\n",
       "      <td>820tgsjxq7</td>\n",
       "      <td>2011-05-25</td>\n",
       "      <td>20090523174809</td>\n",
       "      <td>NaN</td>\n",
       "      <td>MALE</td>\n",
       "      <td>38.0</td>\n",
       "      <td>facebook</td>\n",
       "      <td>0</td>\n",
       "      <td>en</td>\n",
       "      <td>seo</td>\n",
       "      <td>google</td>\n",
       "      <td>untracked</td>\n",
       "      <td>Web</td>\n",
       "      <td>Mac Desktop</td>\n",
       "      <td>Chrome</td>\n",
       "      <td>NDF</td>\n",
       "    </tr>\n",
       "    <tr>\n",
       "      <th>2</th>\n",
       "      <td>4ft3gnwmtx</td>\n",
       "      <td>2010-09-28</td>\n",
       "      <td>20090609231247</td>\n",
       "      <td>2010-08-02</td>\n",
       "      <td>FEMALE</td>\n",
       "      <td>56.0</td>\n",
       "      <td>basic</td>\n",
       "      <td>3</td>\n",
       "      <td>en</td>\n",
       "      <td>direct</td>\n",
       "      <td>direct</td>\n",
       "      <td>untracked</td>\n",
       "      <td>Web</td>\n",
       "      <td>Windows Desktop</td>\n",
       "      <td>IE</td>\n",
       "      <td>US</td>\n",
       "    </tr>\n",
       "    <tr>\n",
       "      <th>3</th>\n",
       "      <td>bjjt8pjhuk</td>\n",
       "      <td>2011-12-05</td>\n",
       "      <td>20091031060129</td>\n",
       "      <td>2012-09-08</td>\n",
       "      <td>FEMALE</td>\n",
       "      <td>42.0</td>\n",
       "      <td>facebook</td>\n",
       "      <td>0</td>\n",
       "      <td>en</td>\n",
       "      <td>direct</td>\n",
       "      <td>direct</td>\n",
       "      <td>untracked</td>\n",
       "      <td>Web</td>\n",
       "      <td>Mac Desktop</td>\n",
       "      <td>Firefox</td>\n",
       "      <td>other</td>\n",
       "    </tr>\n",
       "    <tr>\n",
       "      <th>4</th>\n",
       "      <td>87mebub9p4</td>\n",
       "      <td>2010-09-14</td>\n",
       "      <td>20091208061105</td>\n",
       "      <td>2010-02-18</td>\n",
       "      <td>-unknown-</td>\n",
       "      <td>41.0</td>\n",
       "      <td>basic</td>\n",
       "      <td>0</td>\n",
       "      <td>en</td>\n",
       "      <td>direct</td>\n",
       "      <td>direct</td>\n",
       "      <td>untracked</td>\n",
       "      <td>Web</td>\n",
       "      <td>Mac Desktop</td>\n",
       "      <td>Chrome</td>\n",
       "      <td>US</td>\n",
       "    </tr>\n",
       "  </tbody>\n",
       "</table>\n",
       "</div>"
      ],
      "text/plain": [
       "           id date_account_created  timestamp_first_active date_first_booking  \\\n",
       "0  gxn3p5htnn           2010-06-28          20090319043255                NaN   \n",
       "1  820tgsjxq7           2011-05-25          20090523174809                NaN   \n",
       "2  4ft3gnwmtx           2010-09-28          20090609231247         2010-08-02   \n",
       "3  bjjt8pjhuk           2011-12-05          20091031060129         2012-09-08   \n",
       "4  87mebub9p4           2010-09-14          20091208061105         2010-02-18   \n",
       "\n",
       "      gender   age signup_method  signup_flow language affiliate_channel  \\\n",
       "0  -unknown-   NaN      facebook            0       en            direct   \n",
       "1       MALE  38.0      facebook            0       en               seo   \n",
       "2     FEMALE  56.0         basic            3       en            direct   \n",
       "3     FEMALE  42.0      facebook            0       en            direct   \n",
       "4  -unknown-  41.0         basic            0       en            direct   \n",
       "\n",
       "  affiliate_provider first_affiliate_tracked signup_app first_device_type  \\\n",
       "0             direct               untracked        Web       Mac Desktop   \n",
       "1             google               untracked        Web       Mac Desktop   \n",
       "2             direct               untracked        Web   Windows Desktop   \n",
       "3             direct               untracked        Web       Mac Desktop   \n",
       "4             direct               untracked        Web       Mac Desktop   \n",
       "\n",
       "  first_browser country_destination  \n",
       "0        Chrome                 NDF  \n",
       "1        Chrome                 NDF  \n",
       "2            IE                  US  \n",
       "3       Firefox               other  \n",
       "4        Chrome                  US  "
      ]
     },
     "execution_count": 2,
     "metadata": {},
     "output_type": "execute_result"
    }
   ],
   "source": [
    "training_data = pd.read_csv(\"train_users_2.csv\")\n",
    "training_data.head()"
   ]
  },
  {
   "cell_type": "code",
   "execution_count": 3,
   "metadata": {},
   "outputs": [
    {
     "data": {
      "text/html": [
       "<div>\n",
       "<style scoped>\n",
       "    .dataframe tbody tr th:only-of-type {\n",
       "        vertical-align: middle;\n",
       "    }\n",
       "\n",
       "    .dataframe tbody tr th {\n",
       "        vertical-align: top;\n",
       "    }\n",
       "\n",
       "    .dataframe thead th {\n",
       "        text-align: right;\n",
       "    }\n",
       "</style>\n",
       "<table border=\"1\" class=\"dataframe\">\n",
       "  <thead>\n",
       "    <tr style=\"text-align: right;\">\n",
       "      <th></th>\n",
       "      <th>country_destination</th>\n",
       "      <th>lat_destination</th>\n",
       "      <th>lng_destination</th>\n",
       "      <th>distance_km</th>\n",
       "      <th>destination_km2</th>\n",
       "      <th>destination_language</th>\n",
       "      <th>language_levenshtein_distance</th>\n",
       "    </tr>\n",
       "  </thead>\n",
       "  <tbody>\n",
       "    <tr>\n",
       "      <th>0</th>\n",
       "      <td>AU</td>\n",
       "      <td>-26.853388</td>\n",
       "      <td>133.275160</td>\n",
       "      <td>15297.7440</td>\n",
       "      <td>7741220.0</td>\n",
       "      <td>eng</td>\n",
       "      <td>0.00</td>\n",
       "    </tr>\n",
       "    <tr>\n",
       "      <th>1</th>\n",
       "      <td>CA</td>\n",
       "      <td>62.393303</td>\n",
       "      <td>-96.818146</td>\n",
       "      <td>2828.1333</td>\n",
       "      <td>9984670.0</td>\n",
       "      <td>eng</td>\n",
       "      <td>0.00</td>\n",
       "    </tr>\n",
       "    <tr>\n",
       "      <th>2</th>\n",
       "      <td>DE</td>\n",
       "      <td>51.165707</td>\n",
       "      <td>10.452764</td>\n",
       "      <td>7879.5680</td>\n",
       "      <td>357022.0</td>\n",
       "      <td>deu</td>\n",
       "      <td>72.61</td>\n",
       "    </tr>\n",
       "    <tr>\n",
       "      <th>3</th>\n",
       "      <td>ES</td>\n",
       "      <td>39.896027</td>\n",
       "      <td>-2.487694</td>\n",
       "      <td>7730.7240</td>\n",
       "      <td>505370.0</td>\n",
       "      <td>spa</td>\n",
       "      <td>92.25</td>\n",
       "    </tr>\n",
       "    <tr>\n",
       "      <th>4</th>\n",
       "      <td>FR</td>\n",
       "      <td>46.232193</td>\n",
       "      <td>2.209667</td>\n",
       "      <td>7682.9450</td>\n",
       "      <td>643801.0</td>\n",
       "      <td>fra</td>\n",
       "      <td>92.06</td>\n",
       "    </tr>\n",
       "  </tbody>\n",
       "</table>\n",
       "</div>"
      ],
      "text/plain": [
       "  country_destination  lat_destination  lng_destination  distance_km  \\\n",
       "0                  AU       -26.853388       133.275160   15297.7440   \n",
       "1                  CA        62.393303       -96.818146    2828.1333   \n",
       "2                  DE        51.165707        10.452764    7879.5680   \n",
       "3                  ES        39.896027        -2.487694    7730.7240   \n",
       "4                  FR        46.232193         2.209667    7682.9450   \n",
       "\n",
       "   destination_km2 destination_language   language_levenshtein_distance  \n",
       "0        7741220.0                   eng                           0.00  \n",
       "1        9984670.0                   eng                           0.00  \n",
       "2         357022.0                   deu                          72.61  \n",
       "3         505370.0                   spa                          92.25  \n",
       "4         643801.0                   fra                          92.06  "
      ]
     },
     "execution_count": 3,
     "metadata": {},
     "output_type": "execute_result"
    }
   ],
   "source": [
    "countries = pd.read_csv(\"countries.csv\")\n",
    "countries.head()"
   ]
  },
  {
   "cell_type": "markdown",
   "metadata": {},
   "source": [
    "## Class labels (country_distnation) column\n",
    "- counts of each country "
   ]
  },
  {
   "cell_type": "code",
   "execution_count": 4,
   "metadata": {},
   "outputs": [
    {
     "data": {
      "text/plain": [
       "NDF      124543\n",
       "US        62376\n",
       "other     10094\n",
       "FR         5023\n",
       "IT         2835\n",
       "GB         2324\n",
       "ES         2249\n",
       "CA         1428\n",
       "DE         1061\n",
       "NL          762\n",
       "AU          539\n",
       "PT          217\n",
       "Name: country_destination, dtype: int64"
      ]
     },
     "execution_count": 4,
     "metadata": {},
     "output_type": "execute_result"
    }
   ],
   "source": [
    "training_data['country_destination'].value_counts()"
   ]
  },
  {
   "cell_type": "markdown",
   "metadata": {},
   "source": [
    "- Percentages plot"
   ]
  },
  {
   "cell_type": "code",
   "execution_count": 5,
   "metadata": {},
   "outputs": [
    {
     "data": {
      "image/png": "[encoded data removed]",
      "text/plain": [
       "<Figure size 648x360 with 1 Axes>"
      ]
     },
     "metadata": {},
     "output_type": "display_data"
    }
   ],
   "source": [
    "sns.set_style('ticks')\n",
    "fig, ax = plt.subplots()\n",
    "fig.set_size_inches(9, 5)\n",
    "destination_perc = training_data['country_destination'].value_counts() / len(training_data['country_destination']) * 100\n",
    "destination_perc.plot(kind='bar',color='#E80909')\n",
    "plt.xlabel('Destination Country')\n",
    "plt.ylabel('Percentage')\n",
    "sns.despine()"
   ]
  },
  {
   "cell_type": "code",
   "execution_count": 14,
   "metadata": {},
   "outputs": [
    {
     "data": {
      "image/png": "[encoded data removed]",
      "text/plain": [
       "<Figure size 864x864 with 1 Axes>"
      ]
     },
     "metadata": {},
     "output_type": "display_data"
    },
    {
     "data": {
      "text/plain": [
       "<Figure size 432x288 with 0 Axes>"
      ]
     },
     "metadata": {},
     "output_type": "display_data"
    }
   ],
   "source": [
    "sns.set_style('ticks')\n",
    "fig, ax1 = plt.subplots()\n",
    "fig.set_size_inches(12, 12)\n",
    "ax1.pie(list(destination_perc.values), labels=list(destination_perc.index), autopct='%1.1f%%',shadow=False, startangle=180)\n",
    "ax1.axis('equal') \n",
    "\n",
    "plt.show()\n"
   ]
  },
  {
   "cell_type": "code",
   "execution_count": 13,
   "metadata": {},
   "outputs": [
    {
     "data": {
      "text/plain": [
       "<Figure size 432x288 with 0 Axes>"
      ]
     },
     "metadata": {},
     "output_type": "display_data"
    }
   ],
   "source": []
  },
  {
   "cell_type": "markdown",
   "metadata": {},
   "source": [
    "##### Observation \n",
    "- 58.3% of users didn't travel\n",
    "- most Traveling users prefer to travel inside US (29.2%)\n",
    "\n",
    "- As training data, it's unbalanced and that will affect the accuracy \n"
   ]
  },
  {
   "cell_type": "markdown",
   "metadata": {},
   "source": [
    "## Age Exploration"
   ]
  },
  {
   "cell_type": "code",
   "execution_count": 28,
   "metadata": {},
   "outputs": [
    {
     "data": {
      "text/plain": [
       "count    125461.000000\n",
       "mean         49.668335\n",
       "std         155.666612\n",
       "min           1.000000\n",
       "25%          28.000000\n",
       "50%          34.000000\n",
       "75%          43.000000\n",
       "max        2014.000000\n",
       "Name: age, dtype: float64"
      ]
     },
     "execution_count": 28,
     "metadata": {},
     "output_type": "execute_result"
    }
   ],
   "source": [
    "training_data['age'].describe()"
   ]
  },
  {
   "cell_type": "markdown",
   "metadata": {},
   "source": [
    "##### observation \n",
    "- There is false data as the maximum age her is 2014 (that's not possible) \n",
    "    and the minimum is 1 year and that means tha 1 year old kids have accounts "
   ]
  },
  {
   "cell_type": "code",
   "execution_count": 29,
   "metadata": {},
   "outputs": [
    {
     "data": {
      "text/plain": [
       "count     781.000000\n",
       "mean     2006.308579\n",
       "std        95.711349\n",
       "min       132.000000\n",
       "25%      2014.000000\n",
       "50%      2014.000000\n",
       "75%      2014.000000\n",
       "max      2014.000000\n",
       "Name: age, dtype: float64"
      ]
     },
     "execution_count": 29,
     "metadata": {},
     "output_type": "execute_result"
    }
   ],
   "source": [
    "training_data.loc[training_data['age']>120,'age'].describe()"
   ]
  },
  {
   "cell_type": "code",
   "execution_count": 30,
   "metadata": {},
   "outputs": [
    {
     "data": {
      "text/plain": [
       "count    158.000000\n",
       "mean      12.202532\n",
       "std        5.916359\n",
       "min        1.000000\n",
       "25%        5.000000\n",
       "50%       16.000000\n",
       "75%       17.000000\n",
       "max       17.000000\n",
       "Name: age, dtype: float64"
      ]
     },
     "execution_count": 30,
     "metadata": {},
     "output_type": "execute_result"
    }
   ],
   "source": [
    "training_data.loc[training_data['age']<18,'age'].describe()"
   ]
  },
  {
   "cell_type": "markdown",
   "metadata": {},
   "source": [
    "#### Taking 95 and 14 as age threshold and igonring any outliers "
   ]
  },
  {
   "cell_type": "code",
   "execution_count": 31,
   "metadata": {},
   "outputs": [
    {
     "data": {
      "text/plain": [
       "count    122917.000000\n",
       "mean         36.489355\n",
       "std          11.514983\n",
       "min          15.000000\n",
       "25%          28.000000\n",
       "50%          34.000000\n",
       "75%          42.000000\n",
       "max          94.000000\n",
       "Name: age, dtype: float64"
      ]
     },
     "execution_count": 31,
     "metadata": {},
     "output_type": "execute_result"
    }
   ],
   "source": [
    "training_data = training_data.loc[(training_data['age']<95) & (training_data['age']>14)]\n",
    "training_data['age'].describe()"
   ]
  },
  {
   "cell_type": "code",
   "execution_count": 32,
   "metadata": {},
   "outputs": [
    {
     "name": "stderr",
     "output_type": "stream",
     "text": [
      "C:\\Users\\Mooha\\Anaconda3\\lib\\site-packages\\scipy\\stats\\stats.py:1713: FutureWarning: Using a non-tuple sequence for multidimensional indexing is deprecated; use `arr[tuple(seq)]` instead of `arr[seq]`. In the future this will be interpreted as an array index, `arr[np.array(seq)]`, which will result either in an error or a different result.\n",
      "  return np.add.reduce(sorted[indexer] * weights, axis=axis) / sumval\n"
     ]
    },
    {
     "data": {
      "image/png": "[encoded data removed]",
      "text/plain": [
       "<Figure size 648x360 with 1 Axes>"
      ]
     },
     "metadata": {},
     "output_type": "display_data"
    }
   ],
   "source": [
    "sns.set_style('ticks')\n",
    "fig, ax = plt.subplots()\n",
    "fig.set_size_inches(9, 5)\n",
    "sns.distplot(training_data['age'].dropna(), color='#E80909')\n",
    "plt.xlabel('PDF of Age')\n",
    "\n",
    "sns.despine()"
   ]
  },
  {
   "cell_type": "markdown",
   "metadata": {},
   "source": [
    "##### Observation \n",
    "- Majority of the users are between age 25 and 40 years and the average age for users is 36\n",
    "- Only 25% of users are above 42 years \n"
   ]
  },
  {
   "cell_type": "markdown",
   "metadata": {},
   "source": [
    "### Dividing users to old and young based on the above analysis  "
   ]
  },
  {
   "cell_type": "code",
   "execution_count": 33,
   "metadata": {},
   "outputs": [
    {
     "data": {
      "image/png": "[encoded data removed]",
      "text/plain": [
       "<Figure size 648x360 with 1 Axes>"
      ]
     },
     "metadata": {},
     "output_type": "display_data"
    }
   ],
   "source": [
    "sns.set_style('ticks')\n",
    "fig, ax = plt.subplots()\n",
    "fig.set_size_inches(9, 5)\n",
    "\n",
    "old = len(training_data.loc[training_data['age']>42,'age'])\n",
    "young = len(training_data.loc[training_data['age']<42,'age'])\n",
    "\n",
    "younger_destinations = training_data.loc[training_data['age'] < 42, 'country_destination'].value_counts() / young * 100\n",
    "older_destinations = training_data.loc[training_data['age'] > 42, 'country_destination'].value_counts() / old * 100\n",
    "\n",
    "younger_destinations.plot(kind='bar', color='#FA4C59',width=.3, position=0, label='Youngers', rot=0)\n",
    "older_destinations.plot(kind='bar', color='#E5DFE0', width=.3,position=1, label='Olders', rot=0)\n",
    "\n",
    "plt.legend()\n",
    "plt.xlabel('Destination Country')\n",
    "plt.ylabel('Percentage')\n",
    "\n",
    "sns.despine()\n"
   ]
  },
  {
   "cell_type": "markdown",
   "metadata": {},
   "source": [
    "##### Observation\n",
    "- Percentatge of young people who likes to stay in US is higher "
   ]
  },
  {
   "cell_type": "markdown",
   "metadata": {},
   "source": [
    "## Gender Exploration "
   ]
  },
  {
   "cell_type": "code",
   "execution_count": 34,
   "metadata": {},
   "outputs": [
    {
     "data": {
      "text/plain": [
       "{'-unknown-', 'FEMALE', 'MALE', 'OTHER'}"
      ]
     },
     "execution_count": 34,
     "metadata": {},
     "output_type": "execute_result"
    }
   ],
   "source": [
    "set(training_data['gender'])"
   ]
  },
  {
   "cell_type": "code",
   "execution_count": 42,
   "metadata": {},
   "outputs": [
    {
     "data": {
      "image/png": "[encoded data removed]",
      "text/plain": [
       "<Figure size 648x504 with 1 Axes>"
      ]
     },
     "metadata": {},
     "output_type": "display_data"
    }
   ],
   "source": [
    "sns.set_style('ticks')\n",
    "gender_perc = training_data['gender'].value_counts() / len(training_data['gender']) * 100\n",
    "\n",
    "fig, ax1 = plt.subplots()\n",
    "fig.set_size_inches(9, 7)\n",
    "ax1.pie(list(gender_perc.values), labels=list(gender_perc.index), autopct='%1.1f%%',shadow=False, startangle=90)\n",
    "ax1.axis('equal') \n",
    "\n",
    "plt.show()"
   ]
  },
  {
   "cell_type": "markdown",
   "metadata": {},
   "source": [
    "##### Observations\n",
    "- We can say that both genders are balanced \n",
    "- Almost 13% of the data missing the Gender type "
   ]
  },
  {
   "cell_type": "code",
   "execution_count": 43,
   "metadata": {},
   "outputs": [],
   "source": [
    "training_data.gender.replace('-unknown-', np.nan, inplace=True)"
   ]
  },
  {
   "cell_type": "markdown",
   "metadata": {},
   "source": [
    "#### Making genders dataframe "
   ]
  },
  {
   "cell_type": "code",
   "execution_count": 44,
   "metadata": {},
   "outputs": [
    {
     "data": {
      "text/html": [
       "<div>\n",
       "<style scoped>\n",
       "    .dataframe tbody tr th:only-of-type {\n",
       "        vertical-align: middle;\n",
       "    }\n",
       "\n",
       "    .dataframe tbody tr th {\n",
       "        vertical-align: top;\n",
       "    }\n",
       "\n",
       "    .dataframe thead th {\n",
       "        text-align: right;\n",
       "    }\n",
       "</style>\n",
       "<table border=\"1\" class=\"dataframe\">\n",
       "  <thead>\n",
       "    <tr style=\"text-align: right;\">\n",
       "      <th></th>\n",
       "      <th>country</th>\n",
       "      <th>female_perc</th>\n",
       "      <th>male_perc</th>\n",
       "    </tr>\n",
       "  </thead>\n",
       "  <tbody>\n",
       "    <tr>\n",
       "      <th>0</th>\n",
       "      <td>NDF</td>\n",
       "      <td>47.918689</td>\n",
       "      <td>47.981164</td>\n",
       "    </tr>\n",
       "    <tr>\n",
       "      <th>1</th>\n",
       "      <td>US</td>\n",
       "      <td>37.038344</td>\n",
       "      <td>36.627592</td>\n",
       "    </tr>\n",
       "    <tr>\n",
       "      <th>2</th>\n",
       "      <td>other</td>\n",
       "      <td>5.103139</td>\n",
       "      <td>6.440236</td>\n",
       "    </tr>\n",
       "    <tr>\n",
       "      <th>3</th>\n",
       "      <td>FR</td>\n",
       "      <td>3.158582</td>\n",
       "      <td>2.480713</td>\n",
       "    </tr>\n",
       "    <tr>\n",
       "      <th>4</th>\n",
       "      <td>IT</td>\n",
       "      <td>1.766336</td>\n",
       "      <td>1.282437</td>\n",
       "    </tr>\n",
       "  </tbody>\n",
       "</table>\n",
       "</div>"
      ],
      "text/plain": [
       "  country  female_perc  male_perc\n",
       "0     NDF    47.918689  47.981164\n",
       "1      US    37.038344  36.627592\n",
       "2   other     5.103139   6.440236\n",
       "3      FR     3.158582   2.480713\n",
       "4      IT     1.766336   1.282437"
      ]
     },
     "execution_count": 44,
     "metadata": {},
     "output_type": "execute_result"
    }
   ],
   "source": [
    "# counting both genders and negleting \"others\" as it's very small number that will not even appear in the visuals \n",
    "women_count = sum(training_data['gender'] == 'FEMALE')\n",
    "men_count = sum(training_data['gender'] == 'MALE')\n",
    "\n",
    "#calculating perctages for each country distnation (for genders)\n",
    "female_destinations = training_data.loc[training_data['gender'] == 'FEMALE', 'country_destination'].value_counts() / women_count * 100\n",
    "male_destinations = training_data.loc[training_data['gender'] == 'MALE', 'country_destination'].value_counts() / men_count * 100\n",
    "perc_df = pd.DataFrame(female_destinations)\n",
    "perc_df['male_perc'] = male_destinations\n",
    "perc_df=perc_df.reset_index()\n",
    "perc_df.columns = ['country','female_perc','male_perc']\n",
    "perc_df.head()"
   ]
  },
  {
   "cell_type": "code",
   "execution_count": 45,
   "metadata": {},
   "outputs": [],
   "source": [
    "countries=countries.round({'distance_km': 1}).fillna(0)\n",
    "countries_dict = countries.loc[:,['country_destination','distance_km','language_levenshtein_distance']].set_index('country_destination')\n",
    "countries_dict = countries_dict.to_dict()"
   ]
  },
  {
   "cell_type": "markdown",
   "metadata": {},
   "source": [
    "### Adding distance for sotring"
   ]
  },
  {
   "cell_type": "code",
   "execution_count": 46,
   "metadata": {},
   "outputs": [
    {
     "data": {
      "text/html": [
       "<div>\n",
       "<style scoped>\n",
       "    .dataframe tbody tr th:only-of-type {\n",
       "        vertical-align: middle;\n",
       "    }\n",
       "\n",
       "    .dataframe tbody tr th {\n",
       "        vertical-align: top;\n",
       "    }\n",
       "\n",
       "    .dataframe thead th {\n",
       "        text-align: right;\n",
       "    }\n",
       "</style>\n",
       "<table border=\"1\" class=\"dataframe\">\n",
       "  <thead>\n",
       "    <tr style=\"text-align: right;\">\n",
       "      <th></th>\n",
       "      <th>female_perc</th>\n",
       "      <th>male_perc</th>\n",
       "      <th>distance</th>\n",
       "      <th>language_distance</th>\n",
       "    </tr>\n",
       "    <tr>\n",
       "      <th>country</th>\n",
       "      <th></th>\n",
       "      <th></th>\n",
       "      <th></th>\n",
       "      <th></th>\n",
       "    </tr>\n",
       "  </thead>\n",
       "  <tbody>\n",
       "    <tr>\n",
       "      <th>US</th>\n",
       "      <td>37.038344</td>\n",
       "      <td>36.627592</td>\n",
       "      <td>0</td>\n",
       "      <td>0</td>\n",
       "    </tr>\n",
       "    <tr>\n",
       "      <th>CA</th>\n",
       "      <td>0.741120</td>\n",
       "      <td>0.895702</td>\n",
       "      <td>2828.1</td>\n",
       "      <td>0</td>\n",
       "    </tr>\n",
       "    <tr>\n",
       "      <th>GB</th>\n",
       "      <td>1.431067</td>\n",
       "      <td>1.278429</td>\n",
       "      <td>6883.7</td>\n",
       "      <td>0</td>\n",
       "    </tr>\n",
       "    <tr>\n",
       "      <th>PT</th>\n",
       "      <td>0.123520</td>\n",
       "      <td>0.126240</td>\n",
       "      <td>7355.3</td>\n",
       "      <td>95.45</td>\n",
       "    </tr>\n",
       "    <tr>\n",
       "      <th>NL</th>\n",
       "      <td>0.402322</td>\n",
       "      <td>0.522994</td>\n",
       "      <td>7524.3</td>\n",
       "      <td>63.22</td>\n",
       "    </tr>\n",
       "  </tbody>\n",
       "</table>\n",
       "</div>"
      ],
      "text/plain": [
       "         female_perc  male_perc distance language_distance\n",
       "country                                                   \n",
       "US         37.038344  36.627592        0                 0\n",
       "CA          0.741120   0.895702   2828.1                 0\n",
       "GB          1.431067   1.278429   6883.7                 0\n",
       "PT          0.123520   0.126240   7355.3             95.45\n",
       "NL          0.402322   0.522994   7524.3             63.22"
      ]
     },
     "execution_count": 46,
     "metadata": {},
     "output_type": "execute_result"
    }
   ],
   "source": [
    "perc_df['distance'] = perc_df['country'].replace(countries_dict['distance_km'])\n",
    "perc_df['language_distance'] = perc_df['country'].replace(countries_dict['language_levenshtein_distance'])\n",
    "\n",
    "# Sotring dataframe according to distance countries_dict\n",
    "sorted_df = perc_df[-((perc_df['country']=='NDF') | (perc_df['country']=='other'))]\n",
    "special_df = perc_df[((perc_df['country']=='NDF') | (perc_df['country']=='other'))]\n",
    "sorted_df = sorted_df.sort_values('distance')\n",
    "perc_df = sorted_df.append(special_df)\n",
    "perc_df = perc_df.set_index('country')\n",
    "perc_df.head()"
   ]
  },
  {
   "cell_type": "code",
   "execution_count": 47,
   "metadata": {},
   "outputs": [
    {
     "data": {
      "image/png": "[encoded data removed]",
      "text/plain": [
       "<Figure size 720x360 with 1 Axes>"
      ]
     },
     "metadata": {},
     "output_type": "display_data"
    }
   ],
   "source": [
    "sns.set_style('ticks')\n",
    "fig, ax = plt.subplots()\n",
    "fig.set_size_inches(10, 5)\n",
    "\n",
    "\n",
    "perc_df['female_perc'].plot(kind='bar',color='#FC98D6', width=.3,position=0, label='Female', rot=0)\n",
    "perc_df['male_perc'].plot(kind='bar', color='#09DEE8',width=.3, position=1, label='Male', rot=0)\n",
    "\n",
    "plt.legend()\n",
    "\n",
    "plt.xlabel('Destination Country')\n",
    "plt.ylabel('Percentage')\n",
    "sns.despine()"
   ]
  },
  {
   "cell_type": "markdown",
   "metadata": {},
   "source": [
    "##### Observations\n",
    "- As the countries sorted from left to right we see that travellers outside US doesn't affected by the distance \n",
    "- Both different genders have the same behaviour with almost same percentages of their totals "
   ]
  },
  {
   "cell_type": "markdown",
   "metadata": {},
   "source": [
    "#### Sorting according to language distance\n",
    "- Note : NDF will not be included in this graph"
   ]
  },
  {
   "cell_type": "code",
   "execution_count": 48,
   "metadata": {},
   "outputs": [
    {
     "data": {
      "text/html": [
       "<div>\n",
       "<style scoped>\n",
       "    .dataframe tbody tr th:only-of-type {\n",
       "        vertical-align: middle;\n",
       "    }\n",
       "\n",
       "    .dataframe tbody tr th {\n",
       "        vertical-align: top;\n",
       "    }\n",
       "\n",
       "    .dataframe thead th {\n",
       "        text-align: right;\n",
       "    }\n",
       "</style>\n",
       "<table border=\"1\" class=\"dataframe\">\n",
       "  <thead>\n",
       "    <tr style=\"text-align: right;\">\n",
       "      <th></th>\n",
       "      <th>country</th>\n",
       "      <th>female_perc</th>\n",
       "      <th>male_perc</th>\n",
       "      <th>distance</th>\n",
       "      <th>language_distance</th>\n",
       "    </tr>\n",
       "  </thead>\n",
       "  <tbody>\n",
       "    <tr>\n",
       "      <th>0</th>\n",
       "      <td>US</td>\n",
       "      <td>37.038344</td>\n",
       "      <td>36.627592</td>\n",
       "      <td>0</td>\n",
       "      <td>0</td>\n",
       "    </tr>\n",
       "    <tr>\n",
       "      <th>1</th>\n",
       "      <td>CA</td>\n",
       "      <td>0.741120</td>\n",
       "      <td>0.895702</td>\n",
       "      <td>2828.1</td>\n",
       "      <td>0</td>\n",
       "    </tr>\n",
       "    <tr>\n",
       "      <th>2</th>\n",
       "      <td>GB</td>\n",
       "      <td>1.431067</td>\n",
       "      <td>1.278429</td>\n",
       "      <td>6883.7</td>\n",
       "      <td>0</td>\n",
       "    </tr>\n",
       "    <tr>\n",
       "      <th>9</th>\n",
       "      <td>AU</td>\n",
       "      <td>0.342327</td>\n",
       "      <td>0.344655</td>\n",
       "      <td>15297.7</td>\n",
       "      <td>0</td>\n",
       "    </tr>\n",
       "    <tr>\n",
       "      <th>4</th>\n",
       "      <td>NL</td>\n",
       "      <td>0.402322</td>\n",
       "      <td>0.522994</td>\n",
       "      <td>7524.3</td>\n",
       "      <td>63.22</td>\n",
       "    </tr>\n",
       "  </tbody>\n",
       "</table>\n",
       "</div>"
      ],
      "text/plain": [
       "  country  female_perc  male_perc distance language_distance\n",
       "0      US    37.038344  36.627592        0                 0\n",
       "1      CA     0.741120   0.895702   2828.1                 0\n",
       "2      GB     1.431067   1.278429   6883.7                 0\n",
       "9      AU     0.342327   0.344655  15297.7                 0\n",
       "4      NL     0.402322   0.522994   7524.3             63.22"
      ]
     },
     "execution_count": 48,
     "metadata": {},
     "output_type": "execute_result"
    }
   ],
   "source": [
    "perc_df = perc_df.reset_index()\n",
    "\n",
    "perc_df = perc_df[-(perc_df['country']=='NDF')]\n",
    "\n",
    "sorted_df = perc_df[-(perc_df['country']=='other')]\n",
    "special_df = perc_df[perc_df['country']=='other']\n",
    "sorted_df = sorted_df.sort_values('language_distance')\n",
    "perc_df = sorted_df.append(special_df)\n",
    "perc_df.head()"
   ]
  },
  {
   "cell_type": "code",
   "execution_count": 49,
   "metadata": {},
   "outputs": [
    {
     "data": {
      "text/html": [
       "<div>\n",
       "<style scoped>\n",
       "    .dataframe tbody tr th:only-of-type {\n",
       "        vertical-align: middle;\n",
       "    }\n",
       "\n",
       "    .dataframe tbody tr th {\n",
       "        vertical-align: top;\n",
       "    }\n",
       "\n",
       "    .dataframe thead th {\n",
       "        text-align: right;\n",
       "    }\n",
       "</style>\n",
       "<table border=\"1\" class=\"dataframe\">\n",
       "  <thead>\n",
       "    <tr style=\"text-align: right;\">\n",
       "      <th></th>\n",
       "      <th>language_distance</th>\n",
       "      <th>female_perc</th>\n",
       "      <th>male_perc</th>\n",
       "    </tr>\n",
       "    <tr>\n",
       "      <th>country</th>\n",
       "      <th></th>\n",
       "      <th></th>\n",
       "      <th></th>\n",
       "    </tr>\n",
       "  </thead>\n",
       "  <tbody>\n",
       "    <tr>\n",
       "      <th>[CA,GB,AU]</th>\n",
       "      <td>0</td>\n",
       "      <td>2.514514</td>\n",
       "      <td>2.518786</td>\n",
       "    </tr>\n",
       "    <tr>\n",
       "      <th>NL</th>\n",
       "      <td>63.22</td>\n",
       "      <td>0.402322</td>\n",
       "      <td>0.522994</td>\n",
       "    </tr>\n",
       "    <tr>\n",
       "      <th>DE</th>\n",
       "      <td>72.61</td>\n",
       "      <td>0.573486</td>\n",
       "      <td>0.779481</td>\n",
       "    </tr>\n",
       "    <tr>\n",
       "      <th>IT</th>\n",
       "      <td>89.4</td>\n",
       "      <td>1.766336</td>\n",
       "      <td>1.282437</td>\n",
       "    </tr>\n",
       "    <tr>\n",
       "      <th>FR</th>\n",
       "      <td>92.06</td>\n",
       "      <td>3.158582</td>\n",
       "      <td>2.480713</td>\n",
       "    </tr>\n",
       "  </tbody>\n",
       "</table>\n",
       "</div>"
      ],
      "text/plain": [
       "           language_distance  female_perc  male_perc\n",
       "country                                             \n",
       "[CA,GB,AU]                 0     2.514514   2.518786\n",
       "NL                     63.22     0.402322   0.522994\n",
       "DE                     72.61     0.573486   0.779481\n",
       "IT                      89.4     1.766336   1.282437\n",
       "FR                     92.06     3.158582   2.480713"
      ]
     },
     "execution_count": 49,
     "metadata": {},
     "output_type": "execute_result"
    }
   ],
   "source": [
    "#Neglect US as it'll affect the percentage for 0 distance language \n",
    "temp = perc_df.copy()\n",
    "temp = temp.loc[1:,:]\n",
    "\n",
    "#Grouping all same language (English) together\n",
    "temp = temp.groupby('language_distance', axis=0).sum()\n",
    "\n",
    "# Maping for better visualization\n",
    "countries_dict = { 0.0 : '[CA,GB,AU]',\n",
    "                  63.22 : 'NL',\n",
    "                  72.61 : 'DE',\n",
    "                  89.4 : 'IT',\n",
    "                  92.06 : 'FR',\n",
    "                  92.25 : 'ES',\n",
    "                  95.45: 'PT',\n",
    "                  'NDF' : 'NDF',\n",
    "                  'other':'other'\n",
    "}\n",
    "temp = temp.reset_index()\n",
    "temp['country'] = temp['language_distance'].replace(countries_dict)\n",
    "temp.set_index('country',inplace= True)\n",
    "temp.head()"
   ]
  },
  {
   "cell_type": "code",
   "execution_count": 50,
   "metadata": {},
   "outputs": [
    {
     "data": {
      "image/png": "[encoded data removed]",
      "text/plain": [
       "<Figure size 720x360 with 1 Axes>"
      ]
     },
     "metadata": {},
     "output_type": "display_data"
    }
   ],
   "source": [
    "sns.set_style('ticks')\n",
    "fig, ax = plt.subplots()\n",
    "fig.set_size_inches(10, 5)\n",
    "\n",
    "\n",
    "temp['female_perc'].plot(kind='bar',color='#FC98D6',width=.2, position=0, label='Female', rot=0)\n",
    "temp['male_perc'].plot(kind='bar', color='#09DEE8', width=.2,position=1, label='Male', rot=0)\n",
    "\n",
    "plt.legend()\n",
    "\n",
    "plt.xlabel('Destination Country')\n",
    "plt.ylabel('Percentage')\n",
    "sns.despine()"
   ]
  },
  {
   "cell_type": "markdown",
   "metadata": {},
   "source": [
    "##### Observation\n",
    "- Some travellers outside US likes to travel to countries with same language but this factor also doesn't make a huge effect as we see in France\n",
    "\n",
    "- Note that the y-axis limit are only 6% because of the ignorance of NDF "
   ]
  },
  {
   "cell_type": "markdown",
   "metadata": {},
   "source": [
    "## Sign-up Application  "
   ]
  },
  {
   "cell_type": "code",
   "execution_count": 51,
   "metadata": {},
   "outputs": [
    {
     "data": {
      "text/plain": [
       "Web        108492\n",
       "iOS          9816\n",
       "Moweb        2322\n",
       "Android      2287\n",
       "Name: signup_app, dtype: int64"
      ]
     },
     "execution_count": 51,
     "metadata": {},
     "output_type": "execute_result"
    }
   ],
   "source": [
    "training_data['signup_app'].value_counts()"
   ]
  },
  {
   "cell_type": "code",
   "execution_count": 54,
   "metadata": {},
   "outputs": [
    {
     "data": {
      "image/png": "[encoded data removed]",
      "text/plain": [
       "<Figure size 648x504 with 1 Axes>"
      ]
     },
     "metadata": {},
     "output_type": "display_data"
    }
   ],
   "source": [
    "sns.set_style('ticks')\n",
    "app_perc = training_data['signup_app'].value_counts() / len(training_data['signup_app']) * 100\n",
    "\n",
    "fig, ax1 = plt.subplots()\n",
    "fig.set_size_inches(9, 7)\n",
    "ax1.pie(list(app_perc.values), labels=list(app_perc.index), autopct='%1.1f%%',shadow=False, startangle=180)\n",
    "ax1.axis('equal') \n",
    "\n",
    "plt.show()"
   ]
  },
  {
   "cell_type": "markdown",
   "metadata": {},
   "source": [
    "##### Observation\n",
    "- Most of the users Registered from the website  \n",
    "- Android and Mobile web are not used commonly specially in the first time users knows about the company "
   ]
  },
  {
   "cell_type": "markdown",
   "metadata": {},
   "source": [
    "## Sign_up method "
   ]
  },
  {
   "cell_type": "code",
   "execution_count": 55,
   "metadata": {},
   "outputs": [
    {
     "data": {
      "text/plain": [
       "basic       65578\n",
       "facebook    57199\n",
       "google        140\n",
       "Name: signup_method, dtype: int64"
      ]
     },
     "execution_count": 55,
     "metadata": {},
     "output_type": "execute_result"
    }
   ],
   "source": [
    "training_data['signup_method'].value_counts()"
   ]
  },
  {
   "cell_type": "code",
   "execution_count": 59,
   "metadata": {},
   "outputs": [
    {
     "data": {
      "image/png": "[encoded data removed]",
      "text/plain": [
       "<Figure size 648x504 with 1 Axes>"
      ]
     },
     "metadata": {},
     "output_type": "display_data"
    }
   ],
   "source": [
    "sns.set_style('ticks')\n",
    "method_perc = training_data['signup_method'].value_counts() / len(training_data['signup_method']) * 100\n",
    "\n",
    "fig, ax1 = plt.subplots()\n",
    "fig.set_size_inches(9, 7)\n",
    "ax1.pie(list(method_perc.values), labels=list(method_perc.index), autopct='%1.1f%%',\n",
    "        shadow=False, startangle=90)\n",
    "ax1.axis('equal') \n",
    "\n",
    "plt.show()"
   ]
  },
  {
   "cell_type": "markdown",
   "metadata": {},
   "source": [
    "##### Observation\n",
    "- Very small number of users use google to sign-up  \n",
    "- Users almost devided into two categories in signing_up"
   ]
  },
  {
   "cell_type": "code",
   "execution_count": 57,
   "metadata": {},
   "outputs": [
    {
     "data": {
      "text/html": [
       "<div>\n",
       "<style scoped>\n",
       "    .dataframe tbody tr th:only-of-type {\n",
       "        vertical-align: middle;\n",
       "    }\n",
       "\n",
       "    .dataframe tbody tr th {\n",
       "        vertical-align: top;\n",
       "    }\n",
       "\n",
       "    .dataframe thead th {\n",
       "        text-align: right;\n",
       "    }\n",
       "</style>\n",
       "<table border=\"1\" class=\"dataframe\">\n",
       "  <thead>\n",
       "    <tr style=\"text-align: right;\">\n",
       "      <th>signup_method</th>\n",
       "      <th>basic</th>\n",
       "      <th>facebook</th>\n",
       "      <th>google</th>\n",
       "    </tr>\n",
       "    <tr>\n",
       "      <th>signup_app</th>\n",
       "      <th></th>\n",
       "      <th></th>\n",
       "      <th></th>\n",
       "    </tr>\n",
       "  </thead>\n",
       "  <tbody>\n",
       "    <tr>\n",
       "      <th>Android</th>\n",
       "      <td>964</td>\n",
       "      <td>1183</td>\n",
       "      <td>140</td>\n",
       "    </tr>\n",
       "    <tr>\n",
       "      <th>Moweb</th>\n",
       "      <td>1668</td>\n",
       "      <td>654</td>\n",
       "      <td>0</td>\n",
       "    </tr>\n",
       "    <tr>\n",
       "      <th>Web</th>\n",
       "      <td>58741</td>\n",
       "      <td>49751</td>\n",
       "      <td>0</td>\n",
       "    </tr>\n",
       "    <tr>\n",
       "      <th>iOS</th>\n",
       "      <td>4205</td>\n",
       "      <td>5611</td>\n",
       "      <td>0</td>\n",
       "    </tr>\n",
       "  </tbody>\n",
       "</table>\n",
       "</div>"
      ],
      "text/plain": [
       "signup_method  basic  facebook  google\n",
       "signup_app                            \n",
       "Android          964      1183     140\n",
       "Moweb           1668       654       0\n",
       "Web            58741     49751       0\n",
       "iOS             4205      5611       0"
      ]
     },
     "execution_count": 57,
     "metadata": {},
     "output_type": "execute_result"
    }
   ],
   "source": [
    "pd.crosstab(training_data['signup_app'], training_data['signup_method'])"
   ]
  },
  {
   "cell_type": "markdown",
   "metadata": {},
   "source": [
    "##### Observation\n",
    "- All Google users used Android while signing-up \n",
    "- Mobile users used facebook to sign-up more than the website (iOS and Android)"
   ]
  },
  {
   "cell_type": "markdown",
   "metadata": {},
   "source": [
    "## Device Types "
   ]
  },
  {
   "cell_type": "code",
   "execution_count": 69,
   "metadata": {},
   "outputs": [
    {
     "data": {
      "text/plain": [
       "Mac Desktop           57106\n",
       "Windows Desktop       41239\n",
       "iPhone                10433\n",
       "iPad                   7530\n",
       "Other/Unknown          3948\n",
       "Android Phone          1246\n",
       "Desktop (Other)         741\n",
       "Android Tablet          635\n",
       "SmartPhone (Other)       39\n",
       "Name: first_device_type, dtype: int64"
      ]
     },
     "execution_count": 69,
     "metadata": {},
     "output_type": "execute_result"
    }
   ],
   "source": [
    "training_data['first_device_type'].value_counts()"
   ]
  },
  {
   "cell_type": "code",
   "execution_count": 70,
   "metadata": {},
   "outputs": [
    {
     "data": {
      "image/png": "[encoded data removed]",
      "text/plain": [
       "<Figure size 864x360 with 1 Axes>"
      ]
     },
     "metadata": {},
     "output_type": "display_data"
    }
   ],
   "source": [
    "sns.set_style('ticks')\n",
    "fig, ax = plt.subplots()\n",
    "fig.set_size_inches(12, 5)\n",
    "device_perc = training_data['first_device_type'].value_counts() / len(training_data['first_device_type']) * 100\n",
    "device_perc.plot(kind='bar',color='#E80909')\n",
    "plt.xlabel('Device')\n",
    "plt.ylabel('Percentage')\n",
    "sns.despine()"
   ]
  },
  {
   "cell_type": "code",
   "execution_count": 73,
   "metadata": {},
   "outputs": [
    {
     "data": {
      "image/png": "[encoded data removed]",
      "text/plain": [
       "<Figure size 864x864 with 1 Axes>"
      ]
     },
     "metadata": {},
     "output_type": "display_data"
    }
   ],
   "source": [
    "sns.set_style('ticks')\n",
    "\n",
    "fig, ax1 = plt.subplots()\n",
    "fig.set_size_inches(12, 12)\n",
    "ax1.pie(list(device_perc.values), labels=list(device_perc.index), autopct='%1.1f%%',\n",
    "        shadow=False, startangle=180)\n",
    "ax1.axis('equal') \n",
    "\n",
    "plt.show()"
   ]
  },
  {
   "cell_type": "markdown",
   "metadata": {},
   "source": [
    "##### Observation\n",
    "- Apple users conntributes with more than 60% to the company  \n",
    "- Logically that Android phones users have only 1% as we saw in pervoiuse analysis that only 1.9% have signed-up using anroid "
   ]
  },
  {
   "cell_type": "markdown",
   "metadata": {},
   "source": [
    "## First Browser"
   ]
  },
  {
   "cell_type": "code",
   "execution_count": 68,
   "metadata": {},
   "outputs": [
    {
     "data": {
      "image/png": "[encoded data removed]",
      "text/plain": [
       "<Figure size 1080x360 with 1 Axes>"
      ]
     },
     "metadata": {},
     "output_type": "display_data"
    }
   ],
   "source": [
    "sns.set_style('ticks')\n",
    "fig, ax = plt.subplots()\n",
    "fig.set_size_inches(15, 5)\n",
    "browser_perc = training_data['first_browser'].value_counts() / len(training_data['first_browser']) * 100\n",
    "browser_perc.plot(kind='bar',color='#E80909')\n",
    "plt.xlabel('Browser')\n",
    "plt.ylabel('Percentage')\n",
    "sns.despine()"
   ]
  },
  {
   "cell_type": "code",
   "execution_count": 63,
   "metadata": {},
   "outputs": [
    {
     "data": {
      "text/html": [
       "<div>\n",
       "<style scoped>\n",
       "    .dataframe tbody tr th:only-of-type {\n",
       "        vertical-align: middle;\n",
       "    }\n",
       "\n",
       "    .dataframe tbody tr th {\n",
       "        vertical-align: top;\n",
       "    }\n",
       "\n",
       "    .dataframe thead th {\n",
       "        text-align: right;\n",
       "    }\n",
       "</style>\n",
       "<table border=\"1\" class=\"dataframe\">\n",
       "  <thead>\n",
       "    <tr style=\"text-align: right;\">\n",
       "      <th>signup_method</th>\n",
       "      <th>basic</th>\n",
       "      <th>facebook</th>\n",
       "      <th>google</th>\n",
       "    </tr>\n",
       "    <tr>\n",
       "      <th>first_browser</th>\n",
       "      <th></th>\n",
       "      <th></th>\n",
       "      <th></th>\n",
       "    </tr>\n",
       "  </thead>\n",
       "  <tbody>\n",
       "    <tr>\n",
       "      <th>-unknown-</th>\n",
       "      <td>5412</td>\n",
       "      <td>6454</td>\n",
       "      <td>131</td>\n",
       "    </tr>\n",
       "    <tr>\n",
       "      <th>AOL Explorer</th>\n",
       "      <td>64</td>\n",
       "      <td>34</td>\n",
       "      <td>0</td>\n",
       "    </tr>\n",
       "    <tr>\n",
       "      <th>Android Browser</th>\n",
       "      <td>207</td>\n",
       "      <td>190</td>\n",
       "      <td>2</td>\n",
       "    </tr>\n",
       "    <tr>\n",
       "      <th>Apple Mail</th>\n",
       "      <td>16</td>\n",
       "      <td>7</td>\n",
       "      <td>0</td>\n",
       "    </tr>\n",
       "    <tr>\n",
       "      <th>Avant Browser</th>\n",
       "      <td>3</td>\n",
       "      <td>1</td>\n",
       "      <td>0</td>\n",
       "    </tr>\n",
       "    <tr>\n",
       "      <th>BlackBerry Browser</th>\n",
       "      <td>18</td>\n",
       "      <td>16</td>\n",
       "      <td>0</td>\n",
       "    </tr>\n",
       "    <tr>\n",
       "      <th>Camino</th>\n",
       "      <td>4</td>\n",
       "      <td>2</td>\n",
       "      <td>0</td>\n",
       "    </tr>\n",
       "    <tr>\n",
       "      <th>Chrome</th>\n",
       "      <td>21051</td>\n",
       "      <td>20210</td>\n",
       "      <td>3</td>\n",
       "    </tr>\n",
       "    <tr>\n",
       "      <th>Chrome Mobile</th>\n",
       "      <td>396</td>\n",
       "      <td>199</td>\n",
       "      <td>1</td>\n",
       "    </tr>\n",
       "    <tr>\n",
       "      <th>Chromium</th>\n",
       "      <td>26</td>\n",
       "      <td>27</td>\n",
       "      <td>0</td>\n",
       "    </tr>\n",
       "    <tr>\n",
       "      <th>CometBird</th>\n",
       "      <td>0</td>\n",
       "      <td>1</td>\n",
       "      <td>0</td>\n",
       "    </tr>\n",
       "    <tr>\n",
       "      <th>Comodo Dragon</th>\n",
       "      <td>0</td>\n",
       "      <td>1</td>\n",
       "      <td>0</td>\n",
       "    </tr>\n",
       "    <tr>\n",
       "      <th>CoolNovo</th>\n",
       "      <td>2</td>\n",
       "      <td>2</td>\n",
       "      <td>0</td>\n",
       "    </tr>\n",
       "    <tr>\n",
       "      <th>Firefox</th>\n",
       "      <td>11379</td>\n",
       "      <td>8923</td>\n",
       "      <td>1</td>\n",
       "    </tr>\n",
       "    <tr>\n",
       "      <th>IE</th>\n",
       "      <td>6169</td>\n",
       "      <td>4146</td>\n",
       "      <td>1</td>\n",
       "    </tr>\n",
       "    <tr>\n",
       "      <th>IE Mobile</th>\n",
       "      <td>11</td>\n",
       "      <td>2</td>\n",
       "      <td>0</td>\n",
       "    </tr>\n",
       "    <tr>\n",
       "      <th>IceWeasel</th>\n",
       "      <td>8</td>\n",
       "      <td>2</td>\n",
       "      <td>0</td>\n",
       "    </tr>\n",
       "    <tr>\n",
       "      <th>Iron</th>\n",
       "      <td>7</td>\n",
       "      <td>5</td>\n",
       "      <td>0</td>\n",
       "    </tr>\n",
       "    <tr>\n",
       "      <th>Kindle Browser</th>\n",
       "      <td>0</td>\n",
       "      <td>1</td>\n",
       "      <td>0</td>\n",
       "    </tr>\n",
       "    <tr>\n",
       "      <th>Maxthon</th>\n",
       "      <td>11</td>\n",
       "      <td>17</td>\n",
       "      <td>0</td>\n",
       "    </tr>\n",
       "    <tr>\n",
       "      <th>Mobile Firefox</th>\n",
       "      <td>14</td>\n",
       "      <td>4</td>\n",
       "      <td>0</td>\n",
       "    </tr>\n",
       "    <tr>\n",
       "      <th>Mobile Safari</th>\n",
       "      <td>5664</td>\n",
       "      <td>4532</td>\n",
       "      <td>1</td>\n",
       "    </tr>\n",
       "    <tr>\n",
       "      <th>Mozilla</th>\n",
       "      <td>1</td>\n",
       "      <td>1</td>\n",
       "      <td>0</td>\n",
       "    </tr>\n",
       "    <tr>\n",
       "      <th>NetNewsWire</th>\n",
       "      <td>0</td>\n",
       "      <td>1</td>\n",
       "      <td>0</td>\n",
       "    </tr>\n",
       "    <tr>\n",
       "      <th>Opera</th>\n",
       "      <td>51</td>\n",
       "      <td>59</td>\n",
       "      <td>0</td>\n",
       "    </tr>\n",
       "    <tr>\n",
       "      <th>Opera Mini</th>\n",
       "      <td>1</td>\n",
       "      <td>1</td>\n",
       "      <td>0</td>\n",
       "    </tr>\n",
       "    <tr>\n",
       "      <th>Opera Mobile</th>\n",
       "      <td>1</td>\n",
       "      <td>1</td>\n",
       "      <td>0</td>\n",
       "    </tr>\n",
       "    <tr>\n",
       "      <th>PS Vita browser</th>\n",
       "      <td>1</td>\n",
       "      <td>0</td>\n",
       "      <td>0</td>\n",
       "    </tr>\n",
       "    <tr>\n",
       "      <th>Pale Moon</th>\n",
       "      <td>3</td>\n",
       "      <td>4</td>\n",
       "      <td>0</td>\n",
       "    </tr>\n",
       "    <tr>\n",
       "      <th>RockMelt</th>\n",
       "      <td>3</td>\n",
       "      <td>18</td>\n",
       "      <td>0</td>\n",
       "    </tr>\n",
       "    <tr>\n",
       "      <th>Safari</th>\n",
       "      <td>14995</td>\n",
       "      <td>12279</td>\n",
       "      <td>0</td>\n",
       "    </tr>\n",
       "    <tr>\n",
       "      <th>SeaMonkey</th>\n",
       "      <td>2</td>\n",
       "      <td>1</td>\n",
       "      <td>0</td>\n",
       "    </tr>\n",
       "    <tr>\n",
       "      <th>Silk</th>\n",
       "      <td>31</td>\n",
       "      <td>39</td>\n",
       "      <td>0</td>\n",
       "    </tr>\n",
       "    <tr>\n",
       "      <th>SiteKiosk</th>\n",
       "      <td>7</td>\n",
       "      <td>4</td>\n",
       "      <td>0</td>\n",
       "    </tr>\n",
       "    <tr>\n",
       "      <th>SlimBrowser</th>\n",
       "      <td>1</td>\n",
       "      <td>1</td>\n",
       "      <td>0</td>\n",
       "    </tr>\n",
       "    <tr>\n",
       "      <th>Sogou Explorer</th>\n",
       "      <td>8</td>\n",
       "      <td>5</td>\n",
       "      <td>0</td>\n",
       "    </tr>\n",
       "    <tr>\n",
       "      <th>Stainless</th>\n",
       "      <td>0</td>\n",
       "      <td>1</td>\n",
       "      <td>0</td>\n",
       "    </tr>\n",
       "    <tr>\n",
       "      <th>TenFourFox</th>\n",
       "      <td>6</td>\n",
       "      <td>0</td>\n",
       "      <td>0</td>\n",
       "    </tr>\n",
       "    <tr>\n",
       "      <th>TheWorld Browser</th>\n",
       "      <td>2</td>\n",
       "      <td>0</td>\n",
       "      <td>0</td>\n",
       "    </tr>\n",
       "    <tr>\n",
       "      <th>Yandex.Browser</th>\n",
       "      <td>3</td>\n",
       "      <td>6</td>\n",
       "      <td>0</td>\n",
       "    </tr>\n",
       "    <tr>\n",
       "      <th>wOSBrowser</th>\n",
       "      <td>0</td>\n",
       "      <td>2</td>\n",
       "      <td>0</td>\n",
       "    </tr>\n",
       "  </tbody>\n",
       "</table>\n",
       "</div>"
      ],
      "text/plain": [
       "signup_method       basic  facebook  google\n",
       "first_browser                              \n",
       "-unknown-            5412      6454     131\n",
       "AOL Explorer           64        34       0\n",
       "Android Browser       207       190       2\n",
       "Apple Mail             16         7       0\n",
       "Avant Browser           3         1       0\n",
       "BlackBerry Browser     18        16       0\n",
       "Camino                  4         2       0\n",
       "Chrome              21051     20210       3\n",
       "Chrome Mobile         396       199       1\n",
       "Chromium               26        27       0\n",
       "CometBird               0         1       0\n",
       "Comodo Dragon           0         1       0\n",
       "CoolNovo                2         2       0\n",
       "Firefox             11379      8923       1\n",
       "IE                   6169      4146       1\n",
       "IE Mobile              11         2       0\n",
       "IceWeasel               8         2       0\n",
       "Iron                    7         5       0\n",
       "Kindle Browser          0         1       0\n",
       "Maxthon                11        17       0\n",
       "Mobile Firefox         14         4       0\n",
       "Mobile Safari        5664      4532       1\n",
       "Mozilla                 1         1       0\n",
       "NetNewsWire             0         1       0\n",
       "Opera                  51        59       0\n",
       "Opera Mini              1         1       0\n",
       "Opera Mobile            1         1       0\n",
       "PS Vita browser         1         0       0\n",
       "Pale Moon               3         4       0\n",
       "RockMelt                3        18       0\n",
       "Safari              14995     12279       0\n",
       "SeaMonkey               2         1       0\n",
       "Silk                   31        39       0\n",
       "SiteKiosk               7         4       0\n",
       "SlimBrowser             1         1       0\n",
       "Sogou Explorer          8         5       0\n",
       "Stainless               0         1       0\n",
       "TenFourFox              6         0       0\n",
       "TheWorld Browser        2         0       0\n",
       "Yandex.Browser          3         6       0\n",
       "wOSBrowser              0         2       0"
      ]
     },
     "execution_count": 63,
     "metadata": {},
     "output_type": "execute_result"
    }
   ],
   "source": [
    "pd.crosstab(training_data['first_browser'],training_data['signup_method'])"
   ]
  }
 ],
 "metadata": {
  "kernelspec": {
   "display_name": "Python 3",
   "language": "python",
   "name": "python3"
  },
  "language_info": {
   "codemirror_mode": {
    "name": "ipython",
    "version": 3
   },
   "file_extension": ".py",
   "mimetype": "text/x-python",
   "name": "python",
   "nbconvert_exporter": "python",
   "pygments_lexer": "ipython3",
   "version": "3.6.5"
  }
 },
 "nbformat": 4,
 "nbformat_minor": 2
}
